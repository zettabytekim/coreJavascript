{
 "cells": [
  {
   "cell_type": "markdown",
   "metadata": {},
   "source": [
    "# Chapter 1. 데이터 타입"
   ]
  },
  {
   "cell_type": "markdown",
   "metadata": {},
   "source": [
    "## 01. 데이터 타입의 종류"
   ]
  },
  {
   "cell_type": "markdown",
   "metadata": {},
   "source": [
    "- 기본형(원시형, Primitive type)과 참조형(Reference type)\n",
    "  1. Primitive Type: number, string, boolean, null, undefined, Symbol(ES6)\n",
    "  2. Reference Type: object, array, Function, Date. RegExp(정규표현식)  \n",
    "  object 하위 분류(ES6): Map, WeakMap, Set, WeakSet"
   ]
  },
  {
   "cell_type": "markdown",
   "metadata": {},
   "source": [
    "<img src=\"./docImage/ch01-01.png\" width=\"60%\" height=\"40%\"></img>"
   ]
  },
  {
   "cell_type": "markdown",
   "metadata": {},
   "source": [
    "- 기본형: 값이 담긴 주소값을 복제 (일반적으로 복제된다고 함)\n",
    "- 참조형: 값이 담긴 주소값들오 이루어진 묶음을 가리키킄 주소값을 복제 (참조한다고 함)"
   ]
  },
  {
   "cell_type": "markdown",
   "metadata": {},
   "source": [
    "- 기본형은 불변성(immutability)"
   ]
  },
  {
   "cell_type": "markdown",
   "metadata": {},
   "source": [
    "## 02. 데이터 타입에 관한 배경 지식"
   ]
  },
  {
   "cell_type": "markdown",
   "metadata": {},
   "source": [
    "### 1-2-1 메모리와 데이터"
   ]
  },
  {
   "cell_type": "markdown",
   "metadata": {},
   "source": [
    "- 모든 데이터는 바이트 단위의 식별자, 더 정확하게는 메모리 주소값(memory address)  \n",
    "를 통해 서로 구분하고 연결"
   ]
  },
  {
   "cell_type": "markdown",
   "metadata": {},
   "source": [
    "### 1-2-2 식별자와 변수"
   ]
  },
  {
   "cell_type": "markdown",
   "metadata": {},
   "source": [
    "- 변수(Variable): 변할 수 있는 무언가 --> 데이터\n",
    "- 식별자: 어떤 데이터를 식별하는 데 사용하는 이름 --> 변수명"
   ]
  },
  {
   "cell_type": "markdown",
   "metadata": {},
   "source": [
    "## 03. 변수 선언과 데이터 할당"
   ]
  },
  {
   "cell_type": "markdown",
   "metadata": {},
   "source": [
    "- 동작원리  \n",
    "var a; --> 변할 수 있는 데이터를 만든다, 이 데이터의 식별자는 a로 한다.  \n",
    "선언시에는 undefined이며 향후 변경 가능\n",
    "  \n",
    "- 결국, 변수란 변경 가능한 데이터가 담길 수 있는 공간 또는 그릇  \n",
    "이 공간에 숫자를 담았다가 문자열을 담는 등 다양항 명령 내릴 수 있음"
   ]
  },
  {
   "cell_type": "code",
   "execution_count": null,
   "metadata": {},
   "outputs": [],
   "source": []
  }
 ],
 "metadata": {
  "kernelspec": {
   "display_name": "Javascript (Node.js)",
   "language": "javascript",
   "name": "javascript"
  },
  "language_info": {
   "file_extension": ".js",
   "mimetype": "application/javascript",
   "name": "javascript",
   "version": "12.13.1"
  }
 },
 "nbformat": 4,
 "nbformat_minor": 2
}
