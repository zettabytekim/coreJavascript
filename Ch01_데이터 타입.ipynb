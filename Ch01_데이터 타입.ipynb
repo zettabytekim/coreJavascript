{
 "cells": [
  {
   "cell_type": "markdown",
   "metadata": {},
   "source": [
    "# Chapter 1. 데이터 타입"
   ]
  },
  {
   "cell_type": "markdown",
   "metadata": {},
   "source": [
    "## 01. 데이터 타입의 종류"
   ]
  },
  {
   "cell_type": "markdown",
   "metadata": {},
   "source": [
    "- 기본형(원시형, Primitive type)과 참조형(Reference type)\n",
    "  1. Primitive Type: number, string, boolean, null, undefined, Symbol(ES6)\n",
    "  2. Reference Type: object, array, Function, Date. RegExp(정규표현식)  \n",
    "  object 하위 분류(ES6): Map, WeakMap, Set, WeakSet"
   ]
  },
  {
   "cell_type": "markdown",
   "metadata": {},
   "source": [
    "![데이터 타입 종류](./docImage/ch01-01.png)"
   ]
  },
  {
   "cell_type": "markdown",
   "metadata": {},
   "source": [
    "- 기본형: 값이 담긴 주소값을 복제 (일반적으로 복제된다고 함)\n",
    "- 참조형: 값이 담긴 주소값들오 이루어진 묶음을 가리키킄 주소값을 복제 (참조한다고 함)"
   ]
  },
  {
   "cell_type": "markdown",
   "metadata": {},
   "source": [
    "- 기본형은 불변성(immutability)"
   ]
  },
  {
   "cell_type": "markdown",
   "metadata": {},
   "source": [
    "## 02. 데이터 타입에 관한 배경 지식"
   ]
  },
  {
   "cell_type": "markdown",
   "metadata": {},
   "source": [
    "### 1-2-1 메모리와 데이터"
   ]
  },
  {
   "cell_type": "markdown",
   "metadata": {},
   "source": [
    "- 모든 데이터는 바이트 단위의 식별자, 더 정확하게는 메모리 주소값(memory address)  \n",
    "를 통해 서로 구분하고 연결"
   ]
  },
  {
   "cell_type": "markdown",
   "metadata": {},
   "source": [
    "### 1-2-2 식별자와 변수"
   ]
  },
  {
   "cell_type": "markdown",
   "metadata": {},
   "source": [
    "- 변수(Variable): 변할 수 있는 무언가 --> 데이터\n",
    "- 식별자: 어떤 데이터를 식별하는 데 사용하는 이름 --> 변수명"
   ]
  },
  {
   "cell_type": "markdown",
   "metadata": {},
   "source": [
    "## 03. 변수 선언과 데이터 할당"
   ]
  },
  {
   "cell_type": "markdown",
   "metadata": {},
   "source": [
    "### 1-3-1 변수 선언"
   ]
  },
  {
   "cell_type": "markdown",
   "metadata": {},
   "source": [
    "\n",
    "- 동작원리  \n",
    "var a; --> 변할 수 있는 데이터를 만든다, 이 데이터의 식별자는 a로 한다.  \n",
    "선언시에는 undefined이며 향후 변경 가능\n",
    "  \n",
    "- 결국, 변수란 변경 가능한 데이터가 담길 수 있는 공간 또는 그릇  \n",
    "이 공간에 숫자를 담았다가 문자열을 담는 등 다양항 명령 내릴 수 있음"
   ]
  },
  {
   "cell_type": "markdown",
   "metadata": {},
   "source": [
    "![](./docImage/ch01-02.png)"
   ]
  },
  {
   "cell_type": "markdown",
   "metadata": {},
   "source": [
    "### 1-3-2 데이터 할당"
   ]
  },
  {
   "cell_type": "code",
   "execution_count": 5,
   "metadata": {},
   "outputs": [],
   "source": [
    "var a = 'abc';"
   ]
  },
  {
   "cell_type": "markdown",
   "metadata": {},
   "source": [
    "- 해당 위치에 'abc'를 직접 저정하지 않음  \n",
    "  . 데이터를 저장하기 위한 별도의 메모리 공간을 다시 확보해서 문자열 'abc' 저장하고  \n",
    "  그 주소를 변수 영역에 저장"
   ]
  },
  {
   "cell_type": "markdown",
   "metadata": {},
   "source": [
    "![](./docImage/ch01-03.png)"
   ]
  },
  {
   "cell_type": "markdown",
   "metadata": {},
   "source": [
    "- 문자열 'abc'에 'def'추가하든기존 문자열에서 'c'를 제거해도,  \n",
    "즉, 기존 문자열에 어떤 변환을 가하든 상관없이 무조건 새로 만들어 별도의 공간에 저장  \n",
    "이유는 garbage collector, 데이터는 자신의 주소를 저장하는 변수가 하나라도 없게되면 GC 수서 대상\n",
    "- 메모리 효율성 때문이다."
   ]
  },
  {
   "cell_type": "markdown",
   "metadata": {},
   "source": [
    "![](./docImage/ch01-04.png)"
   ]
  },
  {
   "cell_type": "code",
   "execution_count": null,
   "metadata": {},
   "outputs": [],
   "source": []
  },
  {
   "cell_type": "markdown",
   "metadata": {},
   "source": [
    "## 04. 기본형 데이터와 참조형 데이터"
   ]
  },
  {
   "cell_type": "markdown",
   "metadata": {},
   "source": [
    "### 1-4-1 불변값"
   ]
  },
  {
   "cell_type": "markdown",
   "metadata": {},
   "source": [
    "> 불변값과 상수는 구분 필요  \n",
    ">>\n",
    ">>  \n",
    "* 변수와 상수를 구분 짓는 변경 가능성의 대상은 <u>**변수 영역 메모리**</u>  \n",
    "    --> 한 번 데이터 할당이 이뤄진 변수 공간에 다른 데이터를 재할당 여부가 관건  \n",
    "* 불변성 여부를 구분할 때의 변경 가능성의 대상은 <u>**데이터 영역 메모리**</u>\n",
    "  \n",
    "  > 그래서 <span style=\"font-size:1.5em;\">기본형은 모두 불변값</span>"
   ]
  },
  {
   "cell_type": "code",
   "execution_count": 12,
   "metadata": {},
   "outputs": [
    {
     "data": {
      "text/plain": [
       "7"
      ]
     },
     "execution_count": 12,
     "metadata": {},
     "output_type": "execute_result"
    }
   ],
   "source": [
    "// 불변성\n",
    "var a = 'abc';\n",
    "a += 'def';\n",
    "\n",
    "var b = 5;\n",
    "var c = 5;\n",
    "b = 7;"
   ]
  },
  {
   "cell_type": "markdown",
   "metadata": {},
   "source": [
    "- 데이터 영역에는 'abc'와 'abcdef' 별도로 존재  \n",
    "- 숫자도 있으면 재활용 없으면 새롭게 생성"
   ]
  },
  {
   "cell_type": "markdown",
   "metadata": {},
   "source": [
    "- 데이터 영역에 있는 값들은 모두 다른 값으로 변경할 수 없음  \n",
    "- 변경은 새로 만드는 동작을 통해서만 이뤄짐, <u>**불변값의 성질**</u>\n",
    "- 한 번 만들어진 값은 가비지 컬렉팀을 당하지 않는 한 영원히 변하지 않음"
   ]
  },
  {
   "cell_type": "code",
   "execution_count": null,
   "metadata": {},
   "outputs": [],
   "source": []
  },
  {
   "cell_type": "markdown",
   "metadata": {},
   "source": [
    "### 1-4-2 가변값"
   ]
  },
  {
   "cell_type": "markdown",
   "metadata": {},
   "source": [
    "참조형 데이터의 기본적인 성질은 가변값인 경우가 많지만 설정에 따라 변경 불가 경우 있음"
   ]
  },
  {
   "cell_type": "code",
   "execution_count": 14,
   "metadata": {},
   "outputs": [],
   "source": [
    "// 참조형 데이터의 할당\n",
    "var obj1 = {\n",
    "    a: 1,\n",
    "    b: 'bbb'\n",
    "};"
   ]
  },
  {
   "cell_type": "markdown",
   "metadata": {},
   "source": [
    "![](./docImage/ch01-05.png)"
   ]
  },
  {
   "cell_type": "markdown",
   "metadata": {},
   "source": [
    "![](./docImage/ch01-06.png)"
   ]
  },
  {
   "cell_type": "markdown",
   "metadata": {},
   "source": [
    "- 기본형과의 차이는 '객체의 변수(프로퍼티) 영역'이 별도 존재 한다는 점\n",
    "- 데이터 영역에 저장된 값은 모두 불변값이나 변수에는 다른 값 대입 가능\n",
    "- 참조형 데이터는 불변하지 않다(가변값이다)"
   ]
  },
  {
   "cell_type": "code",
   "execution_count": 16,
   "metadata": {},
   "outputs": [
    {
     "data": {
      "text/plain": [
       "2"
      ]
     },
     "execution_count": 16,
     "metadata": {},
     "output_type": "execute_result"
    }
   ],
   "source": [
    "// 참조형 데이터의 프로퍼티 재할당\n",
    "var obj1 = {\n",
    "    a: 1,\n",
    "    b: 'bbb'\n",
    "};\n",
    "obj1. a = 2;"
   ]
  },
  {
   "cell_type": "markdown",
   "metadata": {},
   "source": [
    "![](./docImage/ch01-07.png)"
   ]
  },
  {
   "cell_type": "markdown",
   "metadata": {},
   "source": [
    "> 새로운 객체 생성이 아니고 객체 내부의 값만 변경"
   ]
  },
  {
   "cell_type": "code",
   "execution_count": 17,
   "metadata": {},
   "outputs": [],
   "source": [
    "// 중첩된 참조형 데이터(객체)의 프로퍼티 할당\n",
    "var obj = {\n",
    "    a: 3,\n",
    "    arr: [3, 4, 5]\n",
    "};"
   ]
  },
  {
   "cell_type": "markdown",
   "metadata": {},
   "source": [
    "![](./docImage/ch01-08.png)"
   ]
  },
  {
   "cell_type": "markdown",
   "metadata": {},
   "source": [
    "![](./docImage/ch01-09.png)"
   ]
  },
  {
   "cell_type": "markdown",
   "metadata": {},
   "source": [
    "![](./docImage/ch01-10.png)"
   ]
  },
  {
   "cell_type": "code",
   "execution_count": null,
   "metadata": {},
   "outputs": [],
   "source": []
  }
 ],
 "metadata": {
  "kernelspec": {
   "display_name": "Javascript (Node.js)",
   "language": "javascript",
   "name": "javascript"
  },
  "language_info": {
   "file_extension": ".js",
   "mimetype": "application/javascript",
   "name": "javascript",
   "version": "12.13.1"
  }
 },
 "nbformat": 4,
 "nbformat_minor": 2
}
